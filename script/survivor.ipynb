{
 "cells": [
  {
   "cell_type": "code",
   "execution_count": 1,
   "id": "f27b84e3-7cc6-43ea-939b-70b162abb2b5",
   "metadata": {},
   "outputs": [],
   "source": [
    "import warnings\n",
    "warnings.simplefilter(action='ignore', category=FutureWarning)\n",
    "import pandas as pd\n",
    "import numpy as np\n",
    "import seaborn as sns\n",
    "import matplotlib.pyplot as plt\n",
    "import matplotlib.patches as mpatches\n",
    "import plotly.graph_objects as go\n",
    "from matplotlib import rcParams\n",
    "from scipy import stats\n",
    "rcParams['axes.titlepad'] = 20 \n",
    "\n"
   ]
  },
  {
   "cell_type": "code",
   "execution_count": 2,
   "id": "c3ea19e0-b3e0-4488-acb6-6bf3e4d572a9",
   "metadata": {},
   "outputs": [],
   "source": [
    "error_category_df = pd.read_csv('data/survivor-Total.csv', delimiter=';')"
   ]
  },
  {
   "cell_type": "code",
   "execution_count": 3,
   "id": "6870cecf",
   "metadata": {},
   "outputs": [
    {
     "data": {
      "text/html": [
       "<div>\n",
       "<style scoped>\n",
       "    .dataframe tbody tr th:only-of-type {\n",
       "        vertical-align: middle;\n",
       "    }\n",
       "\n",
       "    .dataframe tbody tr th {\n",
       "        vertical-align: top;\n",
       "    }\n",
       "\n",
       "    .dataframe thead th {\n",
       "        text-align: right;\n",
       "    }\n",
       "</style>\n",
       "<table border=\"1\" class=\"dataframe\">\n",
       "  <thead>\n",
       "    <tr style=\"text-align: right;\">\n",
       "      <th></th>\n",
       "      <th>TEST ID</th>\n",
       "      <th>consent</th>\n",
       "      <th>What language can you program in? (List the different languages separated by a comma)</th>\n",
       "      <th>How do you rate your knowledge of relational databases (e.g., MySQL))?(1 = never heard of it, 5 = can use it in a professional environment)</th>\n",
       "      <th>How do you rate your knowledge of NoSQL databases (e.g., MongoDB, Cassandra)?(1 = never heard of it, 5 = can use it in a professional environment)</th>\n",
       "      <th>Which one in particular?</th>\n",
       "      <th>How do you rate your knowledge of other graph structures beside property graphs (e.g., RDF and SPARQL)?(1 = never heard of it, 5 = can use it in a professional environment)</th>\n",
       "      <th>Are you knowledgable of any of the following graph query languages?</th>\n",
       "      <th>Q1</th>\n",
       "      <th>Q2</th>\n",
       "      <th>...</th>\n",
       "      <th>Q6</th>\n",
       "      <th>Q7</th>\n",
       "      <th>Q8</th>\n",
       "      <th>Q9</th>\n",
       "      <th>Q10</th>\n",
       "      <th>Q11</th>\n",
       "      <th>Q12</th>\n",
       "      <th>Q13</th>\n",
       "      <th>Q14</th>\n",
       "      <th>Q15</th>\n",
       "    </tr>\n",
       "  </thead>\n",
       "  <tbody>\n",
       "    <tr>\n",
       "      <th>0</th>\n",
       "      <td>student-27</td>\n",
       "      <td>Accept</td>\n",
       "      <td>C,C#,C++,Java, Python, PHP, R, JS, Angular, Ty...</td>\n",
       "      <td>4</td>\n",
       "      <td>4</td>\n",
       "      <td>Apache Cassandra, MongoDB, Couchbase</td>\n",
       "      <td>2</td>\n",
       "      <td>SQL/PGQ</td>\n",
       "      <td>Correct</td>\n",
       "      <td>Correct</td>\n",
       "      <td>...</td>\n",
       "      <td>Semantic Return</td>\n",
       "      <td>Semantic Return</td>\n",
       "      <td>Semantic Pattern, Semantic Where, Semantic Return</td>\n",
       "      <td>Semantic Where</td>\n",
       "      <td>Semantic Where , Semantic Return</td>\n",
       "      <td>Correct</td>\n",
       "      <td>Semantic Pattern</td>\n",
       "      <td>Semantic Pattern, Semantic Return</td>\n",
       "      <td>Correct</td>\n",
       "      <td>Complication</td>\n",
       "    </tr>\n",
       "    <tr>\n",
       "      <th>1</th>\n",
       "      <td>student-28</td>\n",
       "      <td>Accept</td>\n",
       "      <td>C#, JS, TS, C/C++, python</td>\n",
       "      <td>4</td>\n",
       "      <td>2</td>\n",
       "      <td>MongoDB</td>\n",
       "      <td>3</td>\n",
       "      <td>OpenCypher</td>\n",
       "      <td>Correct</td>\n",
       "      <td>Correct</td>\n",
       "      <td>...</td>\n",
       "      <td>Semantic Return</td>\n",
       "      <td>Semantic Return</td>\n",
       "      <td>Semantic Pattern, Semantic Where</td>\n",
       "      <td>Complication</td>\n",
       "      <td>Semantic Where , Semantic Return</td>\n",
       "      <td>Correct</td>\n",
       "      <td>Semantic Pattern</td>\n",
       "      <td>Semantic Pattern, Semantic Return</td>\n",
       "      <td>Correct</td>\n",
       "      <td>Complication</td>\n",
       "    </tr>\n",
       "    <tr>\n",
       "      <th>2</th>\n",
       "      <td>student-29</td>\n",
       "      <td>Accept</td>\n",
       "      <td>Javascript, Java, PHP, C, OCaml, C#, Dart</td>\n",
       "      <td>5</td>\n",
       "      <td>2</td>\n",
       "      <td>MongoDB</td>\n",
       "      <td>1</td>\n",
       "      <td>NaN</td>\n",
       "      <td>Other</td>\n",
       "      <td>Other</td>\n",
       "      <td>...</td>\n",
       "      <td>Complication</td>\n",
       "      <td>Semantic Return</td>\n",
       "      <td>Semantic Pattern, Semantic Where, Semantic Return</td>\n",
       "      <td>Semantic Where</td>\n",
       "      <td>Semantic Return</td>\n",
       "      <td>Complication</td>\n",
       "      <td>Semantic Pattern</td>\n",
       "      <td>Semantic Return</td>\n",
       "      <td>Correct</td>\n",
       "      <td>Semantic Where, Semantic Return</td>\n",
       "    </tr>\n",
       "    <tr>\n",
       "      <th>3</th>\n",
       "      <td>student-30</td>\n",
       "      <td>Accept</td>\n",
       "      <td>Java, C/C++, Python</td>\n",
       "      <td>2</td>\n",
       "      <td>2</td>\n",
       "      <td>MongoDB</td>\n",
       "      <td>1</td>\n",
       "      <td>NaN</td>\n",
       "      <td>Correct</td>\n",
       "      <td>Correct</td>\n",
       "      <td>...</td>\n",
       "      <td>Complication</td>\n",
       "      <td>Complication</td>\n",
       "      <td>Semantic Where, Semantic Return</td>\n",
       "      <td>Correct</td>\n",
       "      <td>Semantic Where</td>\n",
       "      <td>Correct</td>\n",
       "      <td>Correct</td>\n",
       "      <td>Semantic Return</td>\n",
       "      <td>Correct</td>\n",
       "      <td>Semantic Pattern, Semantic Return</td>\n",
       "    </tr>\n",
       "    <tr>\n",
       "      <th>4</th>\n",
       "      <td>student-33</td>\n",
       "      <td>Accept</td>\n",
       "      <td>C, SQL, Cypher, Python, OCaml, C#, C++, Java, ...</td>\n",
       "      <td>4</td>\n",
       "      <td>2</td>\n",
       "      <td>Other</td>\n",
       "      <td>1</td>\n",
       "      <td>OpenCypher, GraphQL, SQL/PGQ</td>\n",
       "      <td>Correct</td>\n",
       "      <td>Correct</td>\n",
       "      <td>...</td>\n",
       "      <td>Correct</td>\n",
       "      <td>Correct</td>\n",
       "      <td>Semantic Pattern,Semantic Return</td>\n",
       "      <td>Semantic Pattern</td>\n",
       "      <td>Semantic Return</td>\n",
       "      <td>Correct</td>\n",
       "      <td>Semantic Pattern</td>\n",
       "      <td>Semantic Return</td>\n",
       "      <td>Correct</td>\n",
       "      <td>Semantic Pattern, Semantic Return</td>\n",
       "    </tr>\n",
       "  </tbody>\n",
       "</table>\n",
       "<p>5 rows × 25 columns</p>\n",
       "</div>"
      ],
      "text/plain": [
       "      TEST ID consent  \\\n",
       "0  student-27  Accept   \n",
       "1  student-28  Accept   \n",
       "2  student-29  Accept   \n",
       "3  student-30  Accept   \n",
       "4  student-33  Accept   \n",
       "\n",
       "  What language can you program in? (List the different languages separated by a comma)  \\\n",
       "0  C,C#,C++,Java, Python, PHP, R, JS, Angular, Ty...                                      \n",
       "1                          C#, JS, TS, C/C++, python                                      \n",
       "2          Javascript, Java, PHP, C, OCaml, C#, Dart                                      \n",
       "3                                Java, C/C++, Python                                      \n",
       "4  C, SQL, Cypher, Python, OCaml, C#, C++, Java, ...                                      \n",
       "\n",
       "   How do you rate your knowledge of relational databases (e.g., MySQL))?(1 = never heard of it, 5 = can use it in a professional environment)  \\\n",
       "0                                                  4                                                                                             \n",
       "1                                                  4                                                                                             \n",
       "2                                                  5                                                                                             \n",
       "3                                                  2                                                                                             \n",
       "4                                                  4                                                                                             \n",
       "\n",
       "   How do you rate your knowledge of NoSQL databases (e.g., MongoDB, Cassandra)?(1 = never heard of it, 5 = can use it in a professional environment)  \\\n",
       "0                                                  4                                                                                                    \n",
       "1                                                  2                                                                                                    \n",
       "2                                                  2                                                                                                    \n",
       "3                                                  2                                                                                                    \n",
       "4                                                  2                                                                                                    \n",
       "\n",
       "               Which one in particular?  \\\n",
       "0  Apache Cassandra, MongoDB, Couchbase   \n",
       "1                               MongoDB   \n",
       "2                               MongoDB   \n",
       "3                               MongoDB   \n",
       "4                                 Other   \n",
       "\n",
       "   How do you rate your knowledge of other graph structures beside property graphs (e.g., RDF and SPARQL)?(1 = never heard of it, 5 = can use it in a professional environment)  \\\n",
       "0                                                  2                                                                                                                              \n",
       "1                                                  3                                                                                                                              \n",
       "2                                                  1                                                                                                                              \n",
       "3                                                  1                                                                                                                              \n",
       "4                                                  1                                                                                                                              \n",
       "\n",
       "  Are you knowledgable of any of the following graph query languages?  \\\n",
       "0                                            SQL/PGQ                    \n",
       "1                                         OpenCypher                    \n",
       "2                                                NaN                    \n",
       "3                                                NaN                    \n",
       "4                       OpenCypher, GraphQL, SQL/PGQ                    \n",
       "\n",
       "        Q1       Q2  ...               Q6               Q7  \\\n",
       "0  Correct  Correct  ...  Semantic Return  Semantic Return   \n",
       "1  Correct  Correct  ...  Semantic Return  Semantic Return   \n",
       "2    Other    Other  ...     Complication  Semantic Return   \n",
       "3  Correct  Correct  ...     Complication     Complication   \n",
       "4  Correct  Correct  ...          Correct          Correct   \n",
       "\n",
       "                                                  Q8                Q9  \\\n",
       "0  Semantic Pattern, Semantic Where, Semantic Return    Semantic Where   \n",
       "1                   Semantic Pattern, Semantic Where      Complication   \n",
       "2  Semantic Pattern, Semantic Where, Semantic Return    Semantic Where   \n",
       "3                    Semantic Where, Semantic Return           Correct   \n",
       "4                   Semantic Pattern,Semantic Return  Semantic Pattern   \n",
       "\n",
       "                                Q10           Q11               Q12  \\\n",
       "0  Semantic Where , Semantic Return       Correct  Semantic Pattern   \n",
       "1  Semantic Where , Semantic Return       Correct  Semantic Pattern   \n",
       "2                   Semantic Return  Complication  Semantic Pattern   \n",
       "3                    Semantic Where       Correct           Correct   \n",
       "4                   Semantic Return       Correct  Semantic Pattern   \n",
       "\n",
       "                                 Q13      Q14  \\\n",
       "0  Semantic Pattern, Semantic Return  Correct   \n",
       "1  Semantic Pattern, Semantic Return  Correct   \n",
       "2                    Semantic Return  Correct   \n",
       "3                    Semantic Return  Correct   \n",
       "4                    Semantic Return  Correct   \n",
       "\n",
       "                                 Q15  \n",
       "0                       Complication  \n",
       "1                       Complication  \n",
       "2    Semantic Where, Semantic Return  \n",
       "3  Semantic Pattern, Semantic Return  \n",
       "4  Semantic Pattern, Semantic Return  \n",
       "\n",
       "[5 rows x 25 columns]"
      ]
     },
     "execution_count": 3,
     "metadata": {},
     "output_type": "execute_result"
    }
   ],
   "source": [
    "error_category_df['Q1']=error_category_df['Q1'].fillna('Absent').apply(lambda x: x.split(\"|\")[0].strip(' '))\n",
    "error_category_df['Q2']=error_category_df['Q2'].fillna('Absent').apply(lambda x: x.split(\"|\")[0].strip(' '))\n",
    "error_category_df['Q3']=error_category_df['Q3'].fillna('Absent').apply(lambda x: x.split(\"|\")[0].strip(' '))\n",
    "error_category_df['Q4']=error_category_df['Q4'].fillna('Absent').apply(lambda x: x.split(\"|\")[0].strip(' '))\n",
    "error_category_df['Schema']=error_category_df['Schema'].fillna('0')\n",
    "error_category_df['Properties']=error_category_df['Properties'].fillna('0')\n",
    "error_category_df['Q6']=error_category_df['Q6'].fillna('Absent').apply(lambda x: x.split(\"|\")[0].strip(' '))\n",
    "error_category_df['Q7']=error_category_df['Q7'].fillna('Absent').apply(lambda x: x.split(\"|\")[0].strip(' '))\n",
    "error_category_df['Q8']=error_category_df['Q8'].fillna('Absent').apply(lambda x: x.split(\"|\")[0].strip(' '))\n",
    "error_category_df['Q9']=error_category_df['Q9'].fillna('Absent').apply(lambda x: x.split(\"|\")[0].strip(' '))\n",
    "error_category_df['Q10']=error_category_df['Q10'].fillna('Absent').apply(lambda x: x.split(\"|\")[0].strip(' '))\n",
    "error_category_df['Q11']=error_category_df['Q11'].fillna('Absent').apply(lambda x: x.split(\"|\")[0].strip(' '))\n",
    "error_category_df['Q12']=error_category_df['Q12'].fillna('Absent').apply(lambda x: x.split(\"|\")[0].strip(' '))\n",
    "error_category_df['Q13']=error_category_df['Q13'].fillna('Absent').apply(lambda x: x.split(\"|\")[0].strip(' '))\n",
    "error_category_df['Q14']=error_category_df['Q14'].fillna('Absent').apply(lambda x: x.split(\"|\")[0].strip(' '))\n",
    "error_category_df['Q15']=error_category_df['Q15'].fillna('Absent').apply(lambda x: x.split(\"|\")[0].strip(' '))\n",
    "error_category_df.head()"
   ]
  },
  {
   "cell_type": "code",
   "execution_count": 4,
   "id": "261e9bd5",
   "metadata": {},
   "outputs": [
    {
     "data": {
      "text/plain": [
       "(13, 25)"
      ]
     },
     "execution_count": 4,
     "metadata": {},
     "output_type": "execute_result"
    }
   ],
   "source": [
    "error_category_df.shape"
   ]
  },
  {
   "cell_type": "code",
   "execution_count": 5,
   "id": "f8fc24c3",
   "metadata": {},
   "outputs": [
    {
     "name": "stdout",
     "output_type": "stream",
     "text": [
      "Label\n",
      "Correct             65\n",
      "Semantic Return     52\n",
      "Semantic Pattern    33\n",
      "Semantic Where      25\n",
      "Complication        21\n",
      "No Answer            9\n",
      "Absent               5\n",
      "Other                2\n",
      "SyntaxError          1\n",
      "Name: count, dtype: int64\n"
     ]
    }
   ],
   "source": [
    "melted_error_category_df = error_category_df[['Q1','Q2','Q3','Q4','Q6','Q7','Q8','Q9','Q10','Q11','Q12','Q13','Q14','Q15']].melt( var_name='Query', value_name='Label')\n",
    "melted_error_category_df=melted_error_category_df.fillna('Absent')\n",
    "\n",
    "melted_error_category_df['Label'] =melted_error_category_df['Label'].str.split(',')\n",
    "\n",
    "# Explode the DataFrame to create new rows\n",
    "melted_error_category_df = melted_error_category_df.explode('Label')\n",
    "melted_error_category_df['Label'] = melted_error_category_df['Label'].apply(lambda x: x.strip(' '))\n",
    "# Display the resulting DataFrame\n",
    "label_counts = melted_error_category_df['Label'].value_counts()\n",
    "\n",
    "print(label_counts)"
   ]
  },
  {
   "cell_type": "code",
   "execution_count": 6,
   "id": "235fab66",
   "metadata": {},
   "outputs": [
    {
     "data": {
      "image/png": "[encoded data removed]",
      "text/plain": [
       "<Figure size 1000x100 with 1 Axes>"
      ]
     },
     "metadata": {},
     "output_type": "display_data"
    }
   ],
   "source": [
    "colorblind_palette = sns.color_palette(\"colorblind\")\n",
    "sns.palplot(colorblind_palette)"
   ]
  },
  {
   "cell_type": "code",
   "execution_count": 7,
   "id": "74c9947c",
   "metadata": {},
   "outputs": [],
   "source": [
    "custom_palette = {\n",
    "    'Correct': colorblind_palette[2],\n",
    "    'Complication': colorblind_palette[9],\n",
    "    'Other': colorblind_palette[0],\n",
    "    'SyntaxError':colorblind_palette[7],\n",
    "    'Semantic Return':colorblind_palette[1],\n",
    "    'Semantic Where':colorblind_palette[5],\n",
    "    'Semantic Pattern':colorblind_palette[3],\n",
    "    'No Answer':'Black',\n",
    "}\n",
    "\n",
    "hatches =  {\n",
    "    'Correct': '-',\n",
    "    'Complication': '-',\n",
    "    'Other': '-',\n",
    "    'SyntaxError':'-',\n",
    "    'Semantic Return':'/',\n",
    "    'Semantic Where':'x',\n",
    "    'Semantic Pattern':'o',\n",
    "    'No Answer':'-',\n",
    "}"
   ]
  },
  {
   "cell_type": "markdown",
   "id": "13dca740",
   "metadata": {},
   "source": [
    "# Analysis of the category of errors"
   ]
  },
  {
   "cell_type": "code",
   "execution_count": 9,
   "id": "6207dc57",
   "metadata": {},
   "outputs": [
    {
     "data": {
      "image/png": "[encoded data removed]",
      "text/plain": [
       "<Figure size 640x480 with 1 Axes>"
      ]
     },
     "metadata": {},
     "output_type": "display_data"
    }
   ],
   "source": [
    "schema_discovery_df = error_category_df[['Q1','Q2','Q3','Q4']]\n",
    "# Melting the DataFrame\n",
    "melted_df = schema_discovery_df.melt( var_name='Query', value_name='Label')\n",
    "# Display the resulting DataFrame\n",
    "fig, ax = plt.subplots()\n",
    "sns.histplot(\n",
    "            data=melted_df,\n",
    "            x=\"Query\",\n",
    "            hue=\"Label\", multiple=\"stack\",\n",
    "            binwidth=.2,\n",
    "              bins='auto',binrange=None, discrete=None,\n",
    "            shrink=.5,\n",
    "            stat=\"count\",\n",
    "            palette=custom_palette).set(title='Schema Discovery Query')\n",
    "sns.move_legend(\n",
    "                ax, \"upper center\",\n",
    "                bbox_to_anchor=(.5, -0.12), ncol=3, title=None, frameon=True,\n",
    "            )\n",
    "plt.show()\n",
    "#fig.savefig('fig/Schema_Discovery_Categories.png', bbox_inches='tight')\n",
    "\n"
   ]
  },
  {
   "cell_type": "code",
   "execution_count": 10,
   "id": "d7f2c294",
   "metadata": {},
   "outputs": [
    {
     "data": {
      "text/plain": [
       "Query  Label          \n",
       "Q1     Correct            12\n",
       "Q2     Correct            11\n",
       "Q3     Correct             8\n",
       "Q4     Correct             8\n",
       "Q3     Complication        4\n",
       "Q4     Complication        4\n",
       "Q1     Other               1\n",
       "Q2     Other               1\n",
       "       SyntaxError         1\n",
       "Q3     Semantic Return     1\n",
       "Q4     Semantic Return     1\n",
       "Name: count, dtype: int64"
      ]
     },
     "execution_count": 10,
     "metadata": {},
     "output_type": "execute_result"
    }
   ],
   "source": [
    "counts = melted_df.value_counts()\n",
    "counts"
   ]
  },
  {
   "cell_type": "code",
   "execution_count": 11,
   "id": "85d35f4e",
   "metadata": {},
   "outputs": [
    {
     "name": "stdout",
     "output_type": "stream",
     "text": [
      "Label\n",
      "Semantic Return     35\n",
      "Semantic Where      22\n",
      "Semantic Pattern    12\n",
      "Complication         9\n",
      "Correct              7\n",
      "Absent               5\n",
      "Name: count, dtype: int64\n",
      "14.0 Absent students in the second part\n"
     ]
    }
   ],
   "source": [
    "analytical_part1_df = error_category_df[['Q6','Q7','Q8','Q9','Q10']]\n",
    "# Melting the DataFrame\n",
    "melted_df = analytical_part1_df.melt( var_name='Query', value_name='Label')\n",
    "\n",
    "melted_df['Label'] =melted_df['Label'].str.split(',')\n",
    "\n",
    "# Explode the DataFrame to create new rows\n",
    "melted_df = melted_df.explode('Label')\n",
    "melted_df['Label'] = melted_df['Label'].apply(lambda x: x.strip(' '))\n",
    "# Display the resulting DataFrame\n",
    "label_counts = melted_df['Label'].value_counts()\n",
    "\n",
    "print(label_counts)\n",
    "print(str(70/5) + \" Absent students in the second part\")\n",
    "\n",
    "melted_df = melted_df[melted_df['Label'] != 'Absent']\n",
    "\n",
    "\n"
   ]
  },
  {
   "cell_type": "code",
   "execution_count": 12,
   "id": "2c231558",
   "metadata": {},
   "outputs": [
    {
     "data": {
      "image/png": "[encoded data removed]",
      "text/plain": [
       "<Figure size 640x480 with 1 Axes>"
      ]
     },
     "metadata": {},
     "output_type": "display_data"
    }
   ],
   "source": [
    "fig, ax = plt.subplots()\n",
    "\n",
    "sns.histplot(\n",
    "            data=melted_df,\n",
    "            x=\"Query\",\n",
    "            hue=\"Label\", multiple=\"stack\",\n",
    "            binwidth=.2,\n",
    "              bins='auto',binrange=None, discrete=None,\n",
    "            shrink=.5,\n",
    "            \n",
    "            palette=custom_palette).set(title='Analytical Query Part 1')\n",
    "\n",
    "\n",
    "\n",
    "\n",
    "sns.move_legend(\n",
    "                ax, \"upper center\",\n",
    "                bbox_to_anchor=(.5, -0.12), ncol=3, title=None, frameon=True,\n",
    "            )\n",
    "plt.show()\n",
    "#fig.savefig('fig/analytical1_Categories.png', bbox_inches='tight')"
   ]
  },
  {
   "cell_type": "code",
   "execution_count": 13,
   "id": "95f059bd",
   "metadata": {},
   "outputs": [
    {
     "data": {
      "text/plain": [
       "Query  Label           \n",
       "Q8     Semantic Return     11\n",
       "       Semantic Where      10\n",
       "       Semantic Pattern    10\n",
       "Q10    Semantic Return      9\n",
       "Q7     Semantic Return      7\n",
       "Q10    Semantic Where       7\n",
       "Q6     Semantic Return      7\n",
       "Q9     Semantic Where       5\n",
       "Q7     Complication         3\n",
       "Q6     Complication         3\n",
       "Q9     Correct              3\n",
       "Q7     Correct              2\n",
       "Q6     Correct              2\n",
       "Q9     Semantic Pattern     2\n",
       "Q10    Complication         2\n",
       "Q9     Complication         1\n",
       "       Semantic Return      1\n",
       "Name: count, dtype: int64"
      ]
     },
     "execution_count": 13,
     "metadata": {},
     "output_type": "execute_result"
    }
   ],
   "source": [
    "counts = melted_df.value_counts()\n",
    "counts"
   ]
  },
  {
   "cell_type": "code",
   "execution_count": 14,
   "id": "ebb1600b",
   "metadata": {},
   "outputs": [
    {
     "name": "stdout",
     "output_type": "stream",
     "text": [
      "Label\n",
      "Semantic Pattern    21\n",
      "Correct             19\n",
      "Semantic Return     15\n",
      "No Answer            9\n",
      "Complication         4\n",
      "Semantic Where       3\n",
      "Name: count, dtype: int64\n",
      "46.0 Absent students in the second part\n"
     ]
    }
   ],
   "source": [
    "analytical_part2_df = error_category_df[['Q11','Q12','Q13','Q14','Q15']]\n",
    "# Melting the DataFrame\n",
    "melted_df = analytical_part2_df.melt( var_name='Query', value_name='Label')\n",
    "\n",
    "melted_df['Label'] =melted_df['Label'].str.split(',')\n",
    "\n",
    "# Explode the DataFrame to create new rows\n",
    "melted_df = melted_df.explode('Label')\n",
    "melted_df['Label'] = melted_df['Label'].apply(lambda x: x.strip(' '))\n",
    "# Display the resulting DataFrame\n",
    "label_counts = melted_df['Label'].value_counts()\n",
    "\n",
    "print(label_counts)\n",
    "print(str(230/5) + \" Absent students in the second part\")\n",
    "\n",
    "melted_df = melted_df[melted_df['Label'] != 'Absent']\n",
    "melted_df = melted_df[melted_df['Label'] != '.']\n",
    "\n",
    "\n"
   ]
  },
  {
   "cell_type": "code",
   "execution_count": 15,
   "id": "f7c129f3",
   "metadata": {},
   "outputs": [
    {
     "data": {
      "image/png": "[encoded data removed]",
      "text/plain": [
       "<Figure size 640x480 with 1 Axes>"
      ]
     },
     "metadata": {},
     "output_type": "display_data"
    }
   ],
   "source": [
    "fig, ax = plt.subplots()\n",
    "\n",
    "sns.histplot(\n",
    "            data=melted_df,\n",
    "            x=\"Query\",\n",
    "            hue=\"Label\", multiple=\"stack\",\n",
    "            binwidth=.2,\n",
    "              bins='auto',binrange=None, discrete=None,\n",
    "            shrink=.5,\n",
    "            palette=custom_palette).set(title='Analytical Query Part 2')\n",
    "\n",
    "\n",
    "\n",
    "\n",
    "sns.move_legend(\n",
    "                ax, \"upper center\",\n",
    "                bbox_to_anchor=(.5, -0.1), ncol=3, title=None, frameon=True,\n",
    "            )\n",
    "plt.show()\n",
    "#fig.savefig('fig/analytical2_Categories.png', bbox_inches='tight')\n"
   ]
  },
  {
   "cell_type": "code",
   "execution_count": 16,
   "id": "ad090391",
   "metadata": {},
   "outputs": [
    {
     "data": {
      "text/plain": [
       "Query  Label           \n",
       "Q12    Semantic Pattern    12\n",
       "Q13    Semantic Return     11\n",
       "Q14    Correct              9\n",
       "Q11    Correct              8\n",
       "Q15    No Answer            5\n",
       "       Semantic Return      4\n",
       "       Semantic Pattern     3\n",
       "Q14    No Answer            2\n",
       "Q15    Complication         2\n",
       "Q14    Semantic Pattern     2\n",
       "Q11    Complication         2\n",
       "Q13    Semantic Pattern     2\n",
       "       No Answer            2\n",
       "Q11    Semantic Pattern     2\n",
       "Q15    Semantic Where       2\n",
       "       Correct              1\n",
       "Q12    Correct              1\n",
       "Q11    Semantic Where       1\n",
       "Name: count, dtype: int64"
      ]
     },
     "execution_count": 16,
     "metadata": {},
     "output_type": "execute_result"
    }
   ],
   "source": [
    "counts = melted_df.value_counts()\n",
    "counts"
   ]
  }
 ],
 "metadata": {
  "kernelspec": {
   "display_name": "Python 3 (ipykernel)",
   "language": "python",
   "name": "python3"
  },
  "language_info": {
   "codemirror_mode": {
    "name": "ipython",
    "version": 3
   },
   "file_extension": ".py",
   "mimetype": "text/x-python",
   "name": "python",
   "nbconvert_exporter": "python",
   "pygments_lexer": "ipython3",
   "version": "3.10.14"
  }
 },
 "nbformat": 4,
 "nbformat_minor": 5
}
